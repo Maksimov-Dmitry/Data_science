{
 "cells": [
  {
   "cell_type": "markdown",
   "metadata": {},
   "source": [
    "**Корректность проверена на Python 3.7:**\n",
    "+ numpy 1.18.1\n",
    "+ scipy 1.4.1\n",
    "+ matplotlib 3.1.3\n",
    "+ sklearn 0.22.1"
   ]
  },
  {
   "cell_type": "code",
   "execution_count": 1,
   "metadata": {},
   "outputs": [],
   "source": [
    "from time import time\n",
    "import numpy as np\n",
    "import random\n",
    "import scipy \n",
    "from scipy import sparse\n",
    "import matplotlib.pyplot as plt\n",
    "from scipy.sparse.linalg import svds\n",
    "from functions import *\n",
    "%matplotlib inline"
   ]
  },
  {
   "cell_type": "markdown",
   "metadata": {},
   "source": [
    "# Анализ данных "
   ]
  },
  {
   "cell_type": "code",
   "execution_count": 2,
   "metadata": {},
   "outputs": [],
   "source": [
    "data = np.loadtxt(\"task3.txt\")"
   ]
  },
  {
   "cell_type": "code",
   "execution_count": 3,
   "metadata": {},
   "outputs": [
    {
     "data": {
      "text/plain": [
       "array([[0.842713 , 0.171253 , 0.228401 , ..., 0.       , 0.       ,\n",
       "        0.       ],\n",
       "       [0.213799 , 0.0453138, 0.       , ..., 0.       , 0.       ,\n",
       "        0.       ],\n",
       "       [0.791006 , 0.160917 , 0.105361 , ..., 0.       , 0.       ,\n",
       "        0.       ],\n",
       "       ...,\n",
       "       [0.       , 0.       , 0.       , ..., 0.       , 0.143809 ,\n",
       "        0.       ],\n",
       "       [0.       , 0.       , 0.       , ..., 0.       , 0.       ,\n",
       "        0.       ],\n",
       "       [0.       , 0.       , 0.       , ..., 0.       , 0.0189764,\n",
       "        0.       ]])"
      ]
     },
     "execution_count": 3,
     "metadata": {},
     "output_type": "execute_result"
    }
   ],
   "source": [
    "data"
   ]
  },
  {
   "cell_type": "code",
   "execution_count": 4,
   "metadata": {},
   "outputs": [
    {
     "name": "stdout",
     "output_type": "stream",
     "text": [
      "231996 345728\n"
     ]
    }
   ],
   "source": [
    "print(data[data==0].size, data.shape[0] * data.shape[1])"
   ]
  },
  {
   "cell_type": "markdown",
   "metadata": {},
   "source": [
    "Значимых данных слишком мало\n",
    "Попробуем узнать оптимальную размерность признаков посредством анализа дисперсии данных вдоль главных компонент"
   ]
  },
  {
   "cell_type": "code",
   "execution_count": 5,
   "metadata": {},
   "outputs": [
    {
     "name": "stdout",
     "output_type": "stream",
     "text": [
      "0.1216614815508505 1\n"
     ]
    },
    {
     "data": {
      "image/png": "[encoded data removed]",
      "text/plain": [
       "<Figure size 432x288 with 1 Axes>"
      ]
     },
     "metadata": {
      "needs_background": "light"
     },
     "output_type": "display_data"
    }
   ],
   "source": [
    "from sklearn.decomposition import PCA\n",
    "from sklearn.model_selection import cross_val_score as cv_score\n",
    "\n",
    "def plot_variances(d_variances):\n",
    "    n_components = np.arange(1,d_variances.size+1)\n",
    "    plt.plot(n_components, d_variances, 'b', label='Component variances')\n",
    "    plt.xlim(n_components[0], n_components[-1])\n",
    "    plt.xlabel('n components')\n",
    "    plt.ylabel('variance')\n",
    "    plt.legend(loc='upper right')\n",
    "    plt.show()\n",
    "\n",
    "model = PCA(n_components=data.shape[1])\n",
    "model.fit(data)\n",
    "model.transform(data)\n",
    "Var = np.sort(model.explained_variance_)[::-1]\n",
    "Var_div = np.array([Var[i] - Var[i+1] for i in range(Var.size - 1)])\n",
    "print(Var_div.max(), Var_div.argmax() + 1)\n",
    "plot_variances(Var)"
   ]
  },
  {
   "cell_type": "markdown",
   "metadata": {},
   "source": [
    "Информация в данных слишком избыточна, учитывая анализ дисперсии и здравый смысл, оптимальная размерность данных - 6"
   ]
  },
  {
   "cell_type": "markdown",
   "metadata": {},
   "source": [
    "## Построение модели"
   ]
  },
  {
   "cell_type": "markdown",
   "metadata": {},
   "source": [
    "Для моделирования пропущенных значений будем использовать матричные разложения с оптимизацией ALS, т.к. стохастический градиентный спуск слишком долго обучается на больших данных"
   ]
  },
  {
   "cell_type": "markdown",
   "metadata": {},
   "source": [
    "** Вспомогательная фунция для поиска минимума, используя условие Armijo–Goldstein **"
   ]
  },
  {
   "cell_type": "code",
   "execution_count": 6,
   "metadata": {},
   "outputs": [],
   "source": [
    "def search_gamma(func, P, c1, c2):\n",
    "    n = 0\n",
    "    gamma = c2 * (c1 ** n)\n",
    "    P1 = P - gamma * func(P)[1]\n",
    "    while func(P1)[0] >= func(P)[0] + np.vdot(func(P)[1], (P1-P)) + 1. / ( 2 * gamma) * (np.linalg.norm(P1-P) ** 2) :\n",
    "        n += 1\n",
    "        gamma = c2 * (c1 ** n)\n",
    "        P1 = P - gamma * func(P)[1]\n",
    "    return c2 * (c1 ** (n-1))\n",
    "\n",
    "\n",
    "def grad_line_search(func, P0, epsilon): \n",
    "    P = P0\n",
    "    max_iter = 0\n",
    "    gamma = 0.5\n",
    "    while (np.linalg.norm(func(P)[1]) > epsilon and max_iter < 300):\n",
    "        c2 = gamma\n",
    "        gamma = search_gamma(func ,P, 0.5, 0.5)\n",
    "        P = P - gamma * func(P)[1]\n",
    "        max_iter += 1\n",
    "    return P, max_iter "
   ]
  },
  {
   "cell_type": "markdown",
   "metadata": {},
   "source": [
    "** ALS  **"
   ]
  },
  {
   "cell_type": "code",
   "execution_count": 7,
   "metadata": {},
   "outputs": [],
   "source": [
    "def ALS(P0, Q0, rho, eps, max_iter):\n",
    "    Q = Q0\n",
    "    P = P0\n",
    "    k = 0\n",
    "    \n",
    "    val, grad_P = objective_P(P0, Q0, data, rho)\n",
    "    _, grad_Q = objective_Q(P0, Q0, data, rho)\n",
    "    \n",
    "    list_obj = []\n",
    "    list_norm_P = []\n",
    "    list_norm_Q = []\n",
    "\n",
    "    list_obj.append(val)\n",
    "    list_norm_P.append(np.linalg.norm(grad_P))\n",
    "    list_norm_Q.append(np.linalg.norm(grad_Q))\n",
    "    \n",
    "    while (np.linalg.norm(grad_P) > eps or np.linalg.norm(grad_Q) > eps) and k < max_iter:\n",
    "        \n",
    "        P, _ = grad_line_search(lambda P : objective_P(P, Q, data, rho), P, eps)\n",
    "        Q, _ = grad_line_search(lambda Q : objective_Q(P, Q, data, rho), Q, eps)\n",
    "        \n",
    "        val, grad_P = objective_P(P, Q, data, rho)\n",
    "        _, grad_Q = objective_Q(P, Q, data, rho)\n",
    "        k += 1\n",
    "        \n",
    "        list_obj.append(val)\n",
    "        list_norm_P.append(np.linalg.norm(grad_P))\n",
    "        list_norm_Q.append(np.linalg.norm(grad_Q))\n",
    "        \n",
    "        if k == 1 or k % 10 == 0:\n",
    "            print(\"iteration = %d\"%k)\n",
    "            print(\"Norm of grad_P = %0.5f \"%np.linalg.norm(grad_P))\n",
    "            print(\"Norm of grad_Q = %0.5f \"%np.linalg.norm(grad_Q))\n",
    "\n",
    "    return P, Q, max_iter, list_obj, list_norm_P, list_norm_Q"
   ]
  },
  {
   "cell_type": "markdown",
   "metadata": {},
   "source": [
    "** Задание параметров**"
   ]
  },
  {
   "cell_type": "code",
   "execution_count": 8,
   "metadata": {
    "scrolled": true
   },
   "outputs": [
    {
     "name": "stdout",
     "output_type": "stream",
     "text": [
      "iteration = 1\n",
      "Norm of grad_P = 7.74596 \n",
      "Norm of grad_Q = 0.09810 \n",
      "iteration = 10\n",
      "Norm of grad_P = 3.93327 \n",
      "Norm of grad_Q = 0.08303 \n",
      "iteration = 20\n",
      "Norm of grad_P = 2.78312 \n",
      "Norm of grad_Q = 0.06970 \n",
      "iteration = 30\n",
      "Norm of grad_P = 2.19497 \n",
      "Norm of grad_Q = 0.04496 \n",
      "iteration = 40\n",
      "Norm of grad_P = 1.75896 \n",
      "Norm of grad_Q = 0.09076 \n",
      "iteration = 50\n",
      "Norm of grad_P = 1.52984 \n",
      "Norm of grad_Q = 0.06468 \n",
      "iteration = 60\n",
      "Norm of grad_P = 1.28654 \n",
      "Norm of grad_Q = 0.05985 \n",
      "iteration = 70\n",
      "Norm of grad_P = 1.07008 \n",
      "Norm of grad_Q = 0.05306 \n",
      "iteration = 80\n",
      "Norm of grad_P = 0.92925 \n",
      "Norm of grad_Q = 0.04892 \n",
      "iteration = 90\n",
      "Norm of grad_P = 0.85591 \n",
      "Norm of grad_Q = 0.09567 \n",
      "iteration = 100\n",
      "Norm of grad_P = 0.60413 \n",
      "Norm of grad_Q = 0.09250 \n",
      "iteration = 110\n",
      "Norm of grad_P = 0.50235 \n",
      "Norm of grad_Q = 0.08835 \n",
      "iteration = 120\n",
      "Norm of grad_P = 0.39477 \n",
      "Norm of grad_Q = 0.09532 \n",
      "iteration = 130\n",
      "Norm of grad_P = 0.48164 \n",
      "Norm of grad_Q = 0.09745 \n",
      "iteration = 140\n",
      "Norm of grad_P = 0.36393 \n",
      "Norm of grad_Q = 0.05748 \n",
      "iteration = 150\n",
      "Norm of grad_P = 0.19342 \n",
      "Norm of grad_Q = 0.07658 \n",
      "iteration = 160\n",
      "Norm of grad_P = 0.16916 \n",
      "Norm of grad_Q = 0.05863 \n",
      "iteration = 170\n",
      "Norm of grad_P = 0.14594 \n",
      "Norm of grad_Q = 0.04497 \n",
      "iteration = 180\n",
      "Norm of grad_P = 0.22232 \n",
      "Norm of grad_Q = 0.08658 \n",
      "iteration = 190\n",
      "Norm of grad_P = 0.15126 \n",
      "Norm of grad_Q = 0.05638 \n",
      "iteration = 200\n",
      "Norm of grad_P = 0.10301 \n",
      "Norm of grad_Q = 0.03720 \n"
     ]
    }
   ],
   "source": [
    "rho = 0.2\n",
    "C = 6 \n",
    "U,S,Vt = scipy.sparse.linalg.svds(data, k=6) \n",
    "eps = .1 \n",
    "max_iter = 300 \n",
    "\n",
    "P, Q, n, list_obj, list_norm_P, list_norm_Q = ALS(Vt, U, rho, eps, max_iter)"
   ]
  },
  {
   "cell_type": "code",
   "execution_count": 9,
   "metadata": {},
   "outputs": [
    {
     "data": {
      "image/png": "[encoded data removed]",
      "text/plain": [
       "<Figure size 1080x360 with 2 Axes>"
      ]
     },
     "metadata": {
      "needs_background": "light"
     },
     "output_type": "display_data"
    }
   ],
   "source": [
    "plt.figure(figsize=(15,5))\n",
    "\n",
    "plt.subplot(121)\n",
    "plt.plot(list_norm_P)\n",
    "plt.xlabel(\"#iterations\", fontsize=14)\n",
    "plt.ylabel(\"$Norm$\", fontsize=14)\n",
    "plt.title('Norm of the gradient of P')\n",
    "plt.grid(True)\n",
    "\n",
    "\n",
    "plt.subplot(122)\n",
    "plt.plot(list_norm_Q)\n",
    "plt.xlabel(\"#iterations\", fontsize=14)\n",
    "plt.ylabel(\"$Norm$\", fontsize=14)\n",
    "plt.title('Norm of the gradient of Q')\n",
    "plt.grid(True)\n",
    "plt.show()"
   ]
  },
  {
   "cell_type": "code",
   "execution_count": 10,
   "metadata": {},
   "outputs": [
    {
     "name": "stdout",
     "output_type": "stream",
     "text": [
      "относительная ошибка : 36.358691\n"
     ]
    }
   ],
   "source": [
    "relative_error = np.linalg.norm(data - np.dot(Q, P)) / np.linalg.norm(data) * 100\n",
    "\n",
    "print(\"относительная ошибка : %f\"%relative_error)"
   ]
  },
  {
   "cell_type": "markdown",
   "metadata": {},
   "source": [
    "Относительная ошибка довольна велика, но в качеств грубого предсказания ее использовать можно.\n",
    "Т.к. данная модель обучалась на зашумленных данных использовать ее для фильтрации шума нецелесообразно"
   ]
  },
  {
   "cell_type": "code",
   "execution_count": 11,
   "metadata": {},
   "outputs": [
    {
     "name": "stdout",
     "output_type": "stream",
     "text": [
      "[[ 8.09679389e-01  8.33169859e-02  1.25039904e-01 ...  9.65572876e-04\n",
      "   1.07267339e-02  1.83995350e-03]\n",
      " [ 2.33137719e-01  7.62705465e-02  6.47559654e-02 ... -1.01242100e-03\n",
      "  -5.52198386e-04 -3.31671416e-03]\n",
      " [ 7.62407046e-01  9.17891589e-02  1.24843599e-01 ...  1.93610613e-03\n",
      "   1.25051309e-02  2.69286862e-03]\n",
      " ...\n",
      " [-8.33898377e-03  2.57109061e-03  1.07549592e-02 ...  2.03898345e-03\n",
      "   1.82200620e-02  4.62693928e-03]\n",
      " [-2.37585660e-03  6.95269185e-03  3.31593464e-03 ...  2.03108206e-04\n",
      "   9.33167788e-05 -7.03489478e-06]\n",
      " [ 1.60429349e-03  7.33762123e-04  5.28019719e-04 ...  1.72015576e-04\n",
      "   6.58291700e-04  2.92180847e-04]]\n",
      "[[0.842713  0.171253  0.228401  ... 0.        0.        0.       ]\n",
      " [0.213799  0.0453138 0.        ... 0.        0.        0.       ]\n",
      " [0.791006  0.160917  0.105361  ... 0.        0.        0.       ]\n",
      " ...\n",
      " [0.        0.        0.        ... 0.        0.143809  0.       ]\n",
      " [0.        0.        0.        ... 0.        0.        0.       ]\n",
      " [0.        0.        0.        ... 0.        0.0189764 0.       ]]\n"
     ]
    }
   ],
   "source": [
    "data_result = Q.dot(P)\n",
    "print(data_result)\n",
    "print(data)"
   ]
  },
  {
   "cell_type": "code",
   "execution_count": 12,
   "metadata": {},
   "outputs": [
    {
     "name": "stdout",
     "output_type": "stream",
     "text": [
      "[ 8.09679389e-01  8.33169859e-02  1.25039904e-01  2.37230477e-02\n",
      "  1.73817339e-02  1.53815596e-02  2.51659974e-04  5.76192918e-02\n",
      "  7.88010826e-02  7.86086607e-02  5.04992723e-02  4.77684238e-02\n",
      "  4.43773208e-03 -9.32618558e-04  7.70160736e-03  5.79937850e-02\n",
      "  6.97888579e-02  5.76034474e-02  1.31646231e-01  6.78073028e-03\n",
      "  5.62601069e-03  4.46894907e-03 -3.18372870e-03  3.32777292e-04\n",
      "  1.19573464e-03  1.72195449e-03  3.05889933e-04  2.31790530e-03\n",
      "  4.85474411e-03  3.18320064e-02  3.23738237e-03  1.73099877e-02\n",
      "  2.07971994e-02 -7.63904890e-04  8.78094060e-03  7.76214735e-02\n",
      "  1.54699741e-03 -6.00337178e-05  2.72105840e-02  3.53121227e-03\n",
      "  7.86337764e-04  6.96943507e-02  1.22176583e-03  1.54180174e-03\n",
      "  9.38467485e-04  5.18584864e-03  2.85805786e-01  8.12182857e-01\n",
      "  1.15002680e-03  1.78004843e-03 -3.78329131e-04  5.41043128e-05\n",
      "  2.68476874e-02  2.00717467e-02  1.26949898e-02  3.12813091e-03\n",
      "  2.28596455e-03  4.85590890e-03  2.60543025e-02  2.23101536e-02\n",
      "  8.00681437e-03  6.27501576e-03  9.17365272e-03  2.37951662e-02\n",
      "  4.87419124e-03  4.94720203e-03  1.42423058e-02  3.00932133e-03\n",
      "  5.40283759e-03  9.14918648e-04  1.42287686e-01  2.35659593e-03\n",
      "  7.05245240e-03  6.66598344e-05  7.84503137e-03  5.69537304e-04\n",
      "  3.63540941e-01  2.57058546e-03  1.28969244e-02  3.09779557e-02\n",
      "  2.37972218e-02  2.28688288e-02 -2.23514043e-03  2.01286456e-02\n",
      "  1.48240680e-04  4.61760147e-03  1.90503361e-03  6.13354321e-03\n",
      "  3.20707524e-02  3.55210306e-03  2.34832007e-02  6.90987443e-03\n",
      "  9.28548746e-03  5.88923763e-02  1.19361544e-01  5.79293303e-02\n",
      "  1.15855866e-02  3.48094070e-03  1.63101137e-03  2.18261748e-02\n",
      "  2.66085411e-03  1.47917194e-04  6.96784145e-03  8.06200164e-02\n",
      "  4.56356399e-04  2.09497100e-03  3.13475174e-02  4.95378165e-03\n",
      "  1.15022125e-02  2.35699187e-02  1.27779196e-03  1.15924942e-03\n",
      "  1.66570106e-02  5.62648265e-03  3.57836482e-02  2.91207827e-02\n",
      "  4.12229168e-03  3.31188733e-02  5.07009923e-03  1.02414850e-02\n",
      "  1.20896334e-02  3.07139612e-02  1.50814225e-02  7.92835541e-03\n",
      "  5.30545550e-03  9.65572876e-04  1.07267339e-02  1.83995350e-03]\n",
      "[0.842713  0.171253  0.228401  0.        0.        0.        0.0424316\n",
      " 0.107107  0.        0.124601  0.0551279 0.        0.        0.\n",
      " 0.        0.133531  0.        0.107383  0.163777  0.        0.\n",
      " 0.        0.        0.        0.        0.        0.        0.\n",
      " 0.        0.        0.        0.        0.        0.        0.0280227\n",
      " 0.0797912 0.        0.        0.        0.        0.        0.\n",
      " 0.        0.        0.        0.        0.292611  0.815199  0.\n",
      " 0.        0.        0.        0.0397969 0.0811159 0.        0.\n",
      " 0.        0.        0.0591672 0.        0.        0.        0.\n",
      " 0.        0.        0.        0.        0.        0.        0.\n",
      " 0.        0.        0.        0.        0.0523719 0.        0.373894\n",
      " 0.        0.        0.0897344 0.        0.        0.        0.\n",
      " 0.        0.        0.        0.        0.0317656 0.0204085 0.\n",
      " 0.        0.0451669 0.        0.0641429 0.0235423 0.        0.\n",
      " 0.        0.        0.        0.        0.        0.0900673 0.0386045\n",
      " 0.        0.0459039 0.        0.        0.        0.        0.\n",
      " 0.0323943 0.        0.        0.0426765 0.        0.0823932 0.\n",
      " 0.        0.        0.        0.        0.        0.        0.\n",
      " 0.        0.       ]\n"
     ]
    }
   ],
   "source": [
    "print(data_result[0])\n",
    "print(data[0])"
   ]
  },
  {
   "cell_type": "code",
   "execution_count": null,
   "metadata": {},
   "outputs": [],
   "source": []
  }
 ],
 "metadata": {
  "anaconda-cloud": {},
  "kernelspec": {
   "display_name": "Python 3",
   "language": "python",
   "name": "python3"
  },
  "language_info": {
   "codemirror_mode": {
    "name": "ipython",
    "version": 3
   },
   "file_extension": ".py",
   "mimetype": "text/x-python",
   "name": "python",
   "nbconvert_exporter": "python",
   "pygments_lexer": "ipython3",
   "version": "3.7.7"
  }
 },
 "nbformat": 4,
 "nbformat_minor": 2
}
