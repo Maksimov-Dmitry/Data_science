{
 "cells": [
  {
   "cell_type": "code",
   "execution_count": 1,
   "metadata": {},
   "outputs": [],
   "source": [
    "from sklearn import datasets, metrics, ensemble\n",
    "import numpy as np\n",
    "data = datasets.load_digits()\n",
    "X_train = data.data[:int(0.75 * data.data.shape[0])]\n",
    "y_train = data.target[:int(0.75 * data.target.shape[0])]\n",
    "X_test = data.data[int(0.75 * data.data.shape[0]):]\n",
    "y_test = data.target[int(0.75 * data.target.shape[0]):]"
   ]
  },
  {
   "cell_type": "code",
   "execution_count": 2,
   "metadata": {},
   "outputs": [],
   "source": [
    "def NN1(x):\n",
    "    min = 10000\n",
    "    min_i = -1\n",
    "    for i in range(X_train.shape[0]):\n",
    "        min_search = np.linalg.norm(X_train[i] - x)\n",
    "        if min_search < min:\n",
    "            min = min_search\n",
    "            min_i = i\n",
    "    return y_train[min_i]\n",
    "predict = np.array([NN1(i) for i in X_test])\n",
    "NN1_score = metrics.accuracy_score(y_test, predict)\n",
    "    "
   ]
  },
  {
   "cell_type": "code",
   "execution_count": 3,
   "metadata": {},
   "outputs": [
    {
     "data": {
      "text/plain": [
       "0.0377777777777778"
      ]
     },
     "execution_count": 3,
     "metadata": {},
     "output_type": "execute_result"
    }
   ],
   "source": [
    "1 - NN1_score"
   ]
  },
  {
   "cell_type": "code",
   "execution_count": 4,
   "metadata": {},
   "outputs": [],
   "source": [
    "forest = ensemble.RandomForestClassifier(n_estimators=1000)\n",
    "forest.fit(X_train, y_train)\n",
    "forest_score = metrics.accuracy_score(y_test, forest.predict(X_test))"
   ]
  },
  {
   "cell_type": "code",
   "execution_count": 5,
   "metadata": {},
   "outputs": [
    {
     "data": {
      "text/plain": [
       "0.06666666666666665"
      ]
     },
     "execution_count": 5,
     "metadata": {},
     "output_type": "execute_result"
    }
   ],
   "source": [
    "1 - forest_score"
   ]
  },
  {
   "cell_type": "code",
   "execution_count": null,
   "metadata": {},
   "outputs": [],
   "source": []
  }
 ],
 "metadata": {
  "kernelspec": {
   "display_name": "Python 3",
   "language": "python",
   "name": "python3"
  },
  "language_info": {
   "codemirror_mode": {
    "name": "ipython",
    "version": 3
   },
   "file_extension": ".py",
   "mimetype": "text/x-python",
   "name": "python",
   "nbconvert_exporter": "python",
   "pygments_lexer": "ipython3",
   "version": "3.7.1"
  }
 },
 "nbformat": 4,
 "nbformat_minor": 2
}
